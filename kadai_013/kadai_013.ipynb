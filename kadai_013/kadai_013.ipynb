{
  "nbformat": 4,
  "nbformat_minor": 0,
  "metadata": {
    "colab": {
      "provenance": []
    },
    "kernelspec": {
      "name": "python3",
      "display_name": "Python 3"
    },
    "language_info": {
      "name": "python"
    }
  },
  "cells": [
    {
      "cell_type": "code",
      "execution_count": 1,
      "metadata": {
        "colab": {
          "base_uri": "https://localhost:8080/"
        },
        "id": "wXVWcp3cgkek",
        "outputId": "a31faa30-bebc-4c2e-9f3d-e881c3a7c45d"
      },
      "outputs": [
        {
          "output_type": "stream",
          "name": "stdout",
          "text": [
            "税込価格: 121.00円\n"
          ]
        }
      ],
      "source": [
        "def calculate_total_price(price, tax_rate):\n",
        "    \"\"\"\n",
        "    商品の税込価格を計算する関数\n",
        "    :param price: 商品の価格（税抜）\n",
        "    :param tax_rate: 消費税率（%）\n",
        "    :return: 税込価格\n",
        "    \"\"\"\n",
        "    tax_amount = price * (tax_rate / 100)  # 消費税額を計算\n",
        "    total_price = price + tax_amount  # 税込価格を計算\n",
        "    return total_price\n",
        "\n",
        "# 使用例\n",
        "price = 110  # 商品の価格\n",
        "tax_rate = 10  # 消費税率（10%）\n",
        "total = calculate_total_price(price, tax_rate)\n",
        "print(f\"税込価格: {total:.2f}円\")\n",
        "\n",
        "\n"
      ]
    }
  ]
}