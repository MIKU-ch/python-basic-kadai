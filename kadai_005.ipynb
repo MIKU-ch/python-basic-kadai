{
  "nbformat": 4,
  "nbformat_minor": 0,
  "metadata": {
    "colab": {
      "provenance": []
    },
    "kernelspec": {
      "name": "python3",
      "display_name": "Python 3"
    },
    "language_info": {
      "name": "python"
    }
  },
  "cells": [
    {
      "cell_type": "code",
      "source": [
        "# 台形の各辺と高さの値を定義\n",
        "top_edge = 10  # 上辺 (cm)\n",
        "bottom_edge = 20  # 下辺 (cm)\n",
        "height = 5  # 高さ (cm)\n",
        "\n",
        "# 台形の面積を計算\n",
        "area = (top_edge + bottom_edge) * height / 2\n",
        "\n",
        "# 結果を出力\n",
        "print(f\"{area}cm²\")"
      ],
      "metadata": {
        "colab": {
          "base_uri": "https://localhost:8080/"
        },
        "id": "PRLeT8Xdu65k",
        "outputId": "35f9be1a-d281-48bd-dc05-4fd6c24a4b3c"
      },
      "execution_count": 4,
      "outputs": [
        {
          "output_type": "stream",
          "name": "stdout",
          "text": [
            "75.0cm²\n"
          ]
        }
      ]
    }
  ]
}