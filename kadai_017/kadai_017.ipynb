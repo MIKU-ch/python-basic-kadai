{
  "nbformat": 4,
  "nbformat_minor": 0,
  "metadata": {
    "colab": {
      "provenance": []
    },
    "kernelspec": {
      "name": "python3",
      "display_name": "Python 3"
    },
    "language_info": {
      "name": "python"
    }
  },
  "cells": [
    {
      "cell_type": "code",
      "execution_count": 2,
      "metadata": {
        "colab": {
          "base_uri": "https://localhost:8080/"
        },
        "id": "wXVWcp3cgkek",
        "outputId": "0882fa19-2f3e-4678-b54e-36378f730e19"
      },
      "outputs": [
        {
          "output_type": "stream",
          "name": "stdout",
          "text": [
            "Alice is an adult.\n",
            "Bob is not an adult.\n",
            "Charlie is an adult.\n"
          ]
        }
      ],
      "source": [
        "class Human:\n",
        "    def __init__(self, name, age):\n",
        "        self.name = name\n",
        "        self.age = age\n",
        "\n",
        "    def printinfo(self):\n",
        "        print(f\"Name: {self.name}, Age: {self.age}\")\n",
        "\n",
        "    def check_adult(self):\n",
        "        if self.age >= 20:\n",
        "            print(f\"{self.name} is an adult.\")\n",
        "        else:\n",
        "            print(f\"{self.name} is not an adult.\")\n",
        "\n",
        "# インスタンスの作成\n",
        "people = [\n",
        "    Human(\"Alice\", 25),\n",
        "    Human(\"Bob\", 18),\n",
        "    Human(\"Charlie\", 30)\n",
        "]\n",
        "\n",
        "# 各インスタンスのcheck_adultメソッドを呼び出し\n",
        "for person in people:\n",
        "    person.check_adult()\n"
      ]
    }
  ]
}