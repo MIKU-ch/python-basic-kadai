{
  "nbformat": 4,
  "nbformat_minor": 0,
  "metadata": {
    "colab": {
      "provenance": []
    },
    "kernelspec": {
      "name": "python3",
      "display_name": "Python 3"
    },
    "language_info": {
      "name": "python"
    }
  },
  "cells": [
    {
      "cell_type": "code",
      "source": [
        "# リストの作成\n",
        "array = [\"水\", \"金\", \"地\", \"火\", \"木\", \"土\", \"天\", \"海\", \"冥\"]\n",
        "\n",
        "# forループを使用して出力\n",
        "print(\"=== forループの出力 ===\")\n",
        "for item in array:\n",
        "    print(item)\n",
        "\n",
        "# 空行を挿入\n",
        "print()\n",
        "\n",
        "# whileループを使用して出力\n",
        "print(\"=== whileループの出力 ===\")\n",
        "i = 0\n",
        "while i < len(array):\n",
        "    print(array[i])\n",
        "    i += 1\n"
      ],
      "metadata": {
        "colab": {
          "base_uri": "https://localhost:8080/"
        },
        "id": "PRLeT8Xdu65k",
        "outputId": "8ded76fa-07d8-44c4-a7b6-bae2a51bfb37"
      },
      "execution_count": 8,
      "outputs": [
        {
          "output_type": "stream",
          "name": "stdout",
          "text": [
            "=== forループの出力 ===\n",
            "水\n",
            "金\n",
            "地\n",
            "火\n",
            "木\n",
            "土\n",
            "天\n",
            "海\n",
            "冥\n",
            "\n",
            "=== whileループの出力 ===\n",
            "水\n",
            "金\n",
            "地\n",
            "火\n",
            "木\n",
            "土\n",
            "天\n",
            "海\n",
            "冥\n"
          ]
        }
      ]
    }
  ]
}